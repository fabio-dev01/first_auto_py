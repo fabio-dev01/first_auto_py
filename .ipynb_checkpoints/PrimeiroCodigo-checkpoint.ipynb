{
 "cells": [
  {
   "cell_type": "markdown",
   "id": "612c3316",
   "metadata": {},
   "source": [
    "Aula 1 - Lira da Hashtag - Automação de Serviços"
   ]
  },
  {
   "cell_type": "markdown",
   "id": "52a0f8e0",
   "metadata": {},
   "source": [
    "# Abrir Drive e Download do arquivo"
   ]
  },
  {
   "cell_type": "code",
   "execution_count": 1,
   "id": "9026f7fa",
   "metadata": {},
   "outputs": [
    {
     "data": {
      "text/plain": [
       "'OK'"
      ]
     },
     "execution_count": 1,
     "metadata": {},
     "output_type": "execute_result"
    }
   ],
   "source": [
    "import pyautogui #controla mouse e teclado\n",
    "import time\n",
    "import pyperclip #permite copiar e colar\n",
    "\n",
    "pyautogui.PAUSE = 1\n",
    "pyautogui.alert('*Não use este computador!  Iniciando Rotina*')\n",
    "\n",
    "pyautogui.hotkey('ctrl', 't')\n",
    "link = 'https://drive.google.com/drive/u/0/folders/1IMNNF7M54P9nGM8lTNiCD-PcZaHpCWBe'\n",
    "pyperclip.copy(link)\n",
    "pyautogui.hotkey('ctrl', 'v')\n",
    "pyautogui.press('enter')\n",
    "time.sleep(6)\n",
    "\n",
    "    ##abre a pasta do Google Drive\n",
    "pyautogui.click(404, 319, clicks=2)\n",
    "time.sleep(3)  \n",
    "    ##download do arquivo\n",
    "    #clica sobre o arquivo\n",
    "pyautogui.click(435, 422)\n",
    "time.sleep(2)\n",
    "    #clica nos 3 pontinhos\n",
    "pyautogui.click(1143, 200)\n",
    "    #clica em fazer Download\n",
    "pyautogui.click(908, 643)\n",
    "time.sleep(10)\n",
    "pyautogui.alert('Download Concluído!')\n",
    "    ### Fim do Download\n"
   ]
  },
  {
   "cell_type": "markdown",
   "id": "2fbbb66c",
   "metadata": {},
   "source": [
    "# Pegando posição com o Mouse"
   ]
  },
  {
   "cell_type": "code",
   "execution_count": 9,
   "id": "4b939424",
   "metadata": {},
   "outputs": [
    {
     "data": {
      "text/plain": [
       "Point(x=908, y=643)"
      ]
     },
     "execution_count": 9,
     "metadata": {},
     "output_type": "execute_result"
    }
   ],
   "source": [
    "## Pegando a posição do mouse\n",
    "import pyautogui #controla mouse e teclado\n",
    "import time\n",
    "import pyperclip #permite copiar e colar\n",
    "\n",
    "time.sleep(4)\n",
    "pyautogui.position()"
   ]
  },
  {
   "cell_type": "markdown",
   "id": "0e86e684",
   "metadata": {},
   "source": [
    "# Análise de Dados"
   ]
  },
  {
   "cell_type": "code",
   "execution_count": 15,
   "id": "d6848621",
   "metadata": {},
   "outputs": [
    {
     "data": {
      "text/html": [
       "<div>\n",
       "<style scoped>\n",
       "    .dataframe tbody tr th:only-of-type {\n",
       "        vertical-align: middle;\n",
       "    }\n",
       "\n",
       "    .dataframe tbody tr th {\n",
       "        vertical-align: top;\n",
       "    }\n",
       "\n",
       "    .dataframe thead th {\n",
       "        text-align: right;\n",
       "    }\n",
       "</style>\n",
       "<table border=\"1\" class=\"dataframe\">\n",
       "  <thead>\n",
       "    <tr style=\"text-align: right;\">\n",
       "      <th></th>\n",
       "      <th>Código Venda</th>\n",
       "      <th>Data</th>\n",
       "      <th>ID Loja</th>\n",
       "      <th>Produto</th>\n",
       "      <th>Quantidade</th>\n",
       "      <th>Valor Unitário</th>\n",
       "      <th>Valor Final</th>\n",
       "    </tr>\n",
       "  </thead>\n",
       "  <tbody>\n",
       "    <tr>\n",
       "      <th>0</th>\n",
       "      <td>65014</td>\n",
       "      <td>2019-12-01</td>\n",
       "      <td>Shopping Morumbi</td>\n",
       "      <td>Sunga Listrado</td>\n",
       "      <td>5</td>\n",
       "      <td>114</td>\n",
       "      <td>570</td>\n",
       "    </tr>\n",
       "    <tr>\n",
       "      <th>1</th>\n",
       "      <td>65014</td>\n",
       "      <td>2019-12-01</td>\n",
       "      <td>Shopping Morumbi</td>\n",
       "      <td>Casaco Listrado</td>\n",
       "      <td>1</td>\n",
       "      <td>269</td>\n",
       "      <td>269</td>\n",
       "    </tr>\n",
       "    <tr>\n",
       "      <th>2</th>\n",
       "      <td>65016</td>\n",
       "      <td>2019-12-01</td>\n",
       "      <td>Iguatemi Campinas</td>\n",
       "      <td>Sapato Listrado</td>\n",
       "      <td>2</td>\n",
       "      <td>363</td>\n",
       "      <td>726</td>\n",
       "    </tr>\n",
       "    <tr>\n",
       "      <th>3</th>\n",
       "      <td>65016</td>\n",
       "      <td>2019-12-01</td>\n",
       "      <td>Iguatemi Campinas</td>\n",
       "      <td>Casaco</td>\n",
       "      <td>1</td>\n",
       "      <td>250</td>\n",
       "      <td>250</td>\n",
       "    </tr>\n",
       "    <tr>\n",
       "      <th>4</th>\n",
       "      <td>65017</td>\n",
       "      <td>2019-12-01</td>\n",
       "      <td>Shopping SP Market</td>\n",
       "      <td>Gorro Liso</td>\n",
       "      <td>3</td>\n",
       "      <td>92</td>\n",
       "      <td>276</td>\n",
       "    </tr>\n",
       "    <tr>\n",
       "      <th>...</th>\n",
       "      <td>...</td>\n",
       "      <td>...</td>\n",
       "      <td>...</td>\n",
       "      <td>...</td>\n",
       "      <td>...</td>\n",
       "      <td>...</td>\n",
       "      <td>...</td>\n",
       "    </tr>\n",
       "    <tr>\n",
       "      <th>7084</th>\n",
       "      <td>69996</td>\n",
       "      <td>2019-12-26</td>\n",
       "      <td>Center Shopping Uberlândia</td>\n",
       "      <td>Short Listrado</td>\n",
       "      <td>2</td>\n",
       "      <td>102</td>\n",
       "      <td>204</td>\n",
       "    </tr>\n",
       "    <tr>\n",
       "      <th>7085</th>\n",
       "      <td>69996</td>\n",
       "      <td>2019-12-26</td>\n",
       "      <td>Center Shopping Uberlândia</td>\n",
       "      <td>Mochila</td>\n",
       "      <td>4</td>\n",
       "      <td>270</td>\n",
       "      <td>1080</td>\n",
       "    </tr>\n",
       "    <tr>\n",
       "      <th>7086</th>\n",
       "      <td>69996</td>\n",
       "      <td>2019-12-26</td>\n",
       "      <td>Center Shopping Uberlândia</td>\n",
       "      <td>Pulseira Estampa</td>\n",
       "      <td>1</td>\n",
       "      <td>87</td>\n",
       "      <td>87</td>\n",
       "    </tr>\n",
       "    <tr>\n",
       "      <th>7087</th>\n",
       "      <td>69997</td>\n",
       "      <td>2019-12-26</td>\n",
       "      <td>Ribeirão Shopping</td>\n",
       "      <td>Camisa Listrado</td>\n",
       "      <td>1</td>\n",
       "      <td>108</td>\n",
       "      <td>108</td>\n",
       "    </tr>\n",
       "    <tr>\n",
       "      <th>7088</th>\n",
       "      <td>69997</td>\n",
       "      <td>2019-12-26</td>\n",
       "      <td>Ribeirão Shopping</td>\n",
       "      <td>Short Linho</td>\n",
       "      <td>2</td>\n",
       "      <td>133</td>\n",
       "      <td>266</td>\n",
       "    </tr>\n",
       "  </tbody>\n",
       "</table>\n",
       "<p>7089 rows × 7 columns</p>\n",
       "</div>"
      ],
      "text/plain": [
       "      Código Venda       Data                     ID Loja           Produto  \\\n",
       "0            65014 2019-12-01            Shopping Morumbi    Sunga Listrado   \n",
       "1            65014 2019-12-01            Shopping Morumbi   Casaco Listrado   \n",
       "2            65016 2019-12-01           Iguatemi Campinas   Sapato Listrado   \n",
       "3            65016 2019-12-01           Iguatemi Campinas            Casaco   \n",
       "4            65017 2019-12-01          Shopping SP Market        Gorro Liso   \n",
       "...            ...        ...                         ...               ...   \n",
       "7084         69996 2019-12-26  Center Shopping Uberlândia    Short Listrado   \n",
       "7085         69996 2019-12-26  Center Shopping Uberlândia           Mochila   \n",
       "7086         69996 2019-12-26  Center Shopping Uberlândia  Pulseira Estampa   \n",
       "7087         69997 2019-12-26           Ribeirão Shopping   Camisa Listrado   \n",
       "7088         69997 2019-12-26           Ribeirão Shopping       Short Linho   \n",
       "\n",
       "      Quantidade  Valor Unitário  Valor Final  \n",
       "0              5             114          570  \n",
       "1              1             269          269  \n",
       "2              2             363          726  \n",
       "3              1             250          250  \n",
       "4              3              92          276  \n",
       "...          ...             ...          ...  \n",
       "7084           2             102          204  \n",
       "7085           4             270         1080  \n",
       "7086           1              87           87  \n",
       "7087           1             108          108  \n",
       "7088           2             133          266  \n",
       "\n",
       "[7089 rows x 7 columns]"
      ]
     },
     "metadata": {},
     "output_type": "display_data"
    }
   ],
   "source": [
    "## Análise de Dados\n",
    "import pandas as pd\n",
    "\n",
    "tabela = pd.read_excel(r'C:\\Users\\Silva\\Downloads\\Vendas - Dez.xlsx')\n",
    "display(tabela)\n",
    "faturamento = tabela['Valor Final'].sum()\n",
    "qtd = tabela['Quantidade'].sum()"
   ]
  },
  {
   "cell_type": "markdown",
   "id": "f17c4a75",
   "metadata": {},
   "source": [
    "# Envio de Email"
   ]
  },
  {
   "cell_type": "code",
   "execution_count": 2,
   "id": "2c85b824",
   "metadata": {},
   "outputs": [
    {
     "data": {
      "text/plain": [
       "'OK'"
      ]
     },
     "execution_count": 2,
     "metadata": {},
     "output_type": "execute_result"
    }
   ],
   "source": [
    "import pyautogui #controla mouse e teclado\n",
    "import time\n",
    "import pyperclip #permite copiar e colar\n",
    "\n",
    "pyautogui.PAUSE = 1\n",
    "pyautogui.alert('Não Utilize seu PC - Programa rodando')\n",
    "\n",
    "pyautogui.hotkey('ctrl', 't')\n",
    "link = 'https://mail.google.com/mail/u/0/#inbox'\n",
    "pyperclip.copy(link)\n",
    "pyautogui.hotkey('ctrl', 'v')\n",
    "pyautogui.press('enter')\n",
    "    ## Carregar a caixa de entrada por 6s\n",
    "time.sleep(10)\n",
    "    \n",
    "    ##clica em Escrever\n",
    "pyautogui.click(72, 205)\n",
    "    ##espera carregar\n",
    "time.sleep(10)\n",
    "\n",
    "## Destino\n",
    "email = 'fabinho2prmc+teste@gmail.com'\n",
    "pyautogui.write(email)\n",
    "pyautogui.press('tab')\n",
    "pyautogui.press('tab')\n",
    "\n",
    "##Assunto\n",
    "pyautogui.write('Relatório - Teste')\n",
    "pyautogui.press('tab')\n",
    "\n",
    "\n",
    "## Análise de Dados\n",
    "import pandas as pd\n",
    "\n",
    "tabela = pd.read_excel(r'C:\\Users\\Silva\\Downloads\\Vendas - Dez.xlsx')\n",
    "faturamento = tabela['Valor Final'].sum()\n",
    "qtd = tabela['Quantidade'].sum()\n",
    "\n",
    "\n",
    "## texto\n",
    "texto = f\"\"\" \n",
    "\n",
    "Olá!\n",
    "--\n",
    "\n",
    "Relatório de hoje:\n",
    " ->Quantidade de produtos : {qtd}\n",
    " ->Faturamento : {faturamento :,.2f}\n",
    "\n",
    "\"\"\"\n",
    "pyperclip.copy(texto)\n",
    "pyautogui.hotkey('ctrl', 'v')\n",
    "\n",
    "pyautogui.hotkey('ctrl', 'enter')\n",
    "pyautogui.alert('Serviço Encerrado')\n"
   ]
  },
  {
   "cell_type": "code",
   "execution_count": 29,
   "id": "0bb25f9c",
   "metadata": {},
   "outputs": [
    {
     "data": {
      "text/plain": [
       "Point(x=358, y=232)"
      ]
     },
     "execution_count": 29,
     "metadata": {},
     "output_type": "execute_result"
    }
   ],
   "source": [
    "time.sleep(4)\n",
    "pyautogui.position()"
   ]
  },
  {
   "cell_type": "code",
   "execution_count": null,
   "id": "2923542f",
   "metadata": {},
   "outputs": [],
   "source": []
  }
 ],
 "metadata": {
  "kernelspec": {
   "display_name": "Python 3",
   "language": "python",
   "name": "python3"
  },
  "language_info": {
   "codemirror_mode": {
    "name": "ipython",
    "version": 3
   },
   "file_extension": ".py",
   "mimetype": "text/x-python",
   "name": "python",
   "nbconvert_exporter": "python",
   "pygments_lexer": "ipython3",
   "version": "3.8.8"
  }
 },
 "nbformat": 4,
 "nbformat_minor": 5
}
